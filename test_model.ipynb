{
 "cells": [
  {
   "cell_type": "code",
   "execution_count": 1,
   "metadata": {},
   "outputs": [],
   "source": [
    "import torch\n",
    "import tinycudann as tcnn\n",
    "import numpy as np\n",
    "import matplotlib.pyplot as plt\n",
    "from process_data import process_radar_data"
   ]
  },
  {
   "cell_type": "code",
   "execution_count": 2,
   "metadata": {},
   "outputs": [],
   "source": [
    "def forward_model(f_est, H):\n",
    "    ''' Forward model to compute the measurements\n",
    "        field_estimate = -H.conj().T @ g \n",
    "        Therefore, g = -H @ field_estimate'''\n",
    "    H_pseudo_inv = torch.linalg.pinv(H.conj().T)\n",
    "    g = -H_pseudo_inv @ f_est\n",
    "    return g\n",
    "\n",
    "\n",
    "class InstantNGPFieldRepresentation(torch.nn.Module):\n",
    "    def __init__(self, input_dim=3, hidden_dim=128, output_dim=2):\n",
    "        super().__init__()\n",
    "        \n",
    "        self.encoding = tcnn.Encoding(\n",
    "            n_input_dims=input_dim,\n",
    "            encoding_config={\n",
    "                \"otype\": \"HashGrid\",\n",
    "                \"n_levels\": 16,\n",
    "                \"n_features_per_level\": 2,\n",
    "                \"log2_hashmap_size\": 19,\n",
    "                \"base_resolution\": 16,\n",
    "                \"per_level_scale\": 1.5\n",
    "            },\n",
    "        )\n",
    "        self.network = tcnn.Network(\n",
    "            n_input_dims=self.encoding.n_output_dims,\n",
    "            n_output_dims=output_dim,\n",
    "            network_config={\n",
    "                \"otype\": \"CutlassMLP\",\n",
    "                \"activation\": \"Sine\",\n",
    "                \"output_activation\": \"None\",\n",
    "                \"n_neurons\": hidden_dim,\n",
    "                \"n_hidden_layers\": 2\n",
    "            },\n",
    "        )\n",
    "    \n",
    "    def forward(self, x):\n",
    "        x_encoded = self.encoding(x)\n",
    "        out = self.network(x_encoded).float()\n",
    "        return torch.complex(out[:, 0], out[:, 1])"
   ]
  },
  {
   "cell_type": "code",
   "execution_count": 3,
   "metadata": {},
   "outputs": [
    {
     "name": "stdout",
     "output_type": "stream",
     "text": [
      "InstantNGPFieldRepresentation(\n",
      "  (encoding): Encoding(n_input_dims=3, n_output_dims=32, seed=1337, dtype=torch.float16, hyperparams={'base_resolution': 16, 'hash': 'CoherentPrime', 'interpolation': 'Linear', 'log2_hashmap_size': 19, 'n_features_per_level': 2, 'n_levels': 16, 'otype': 'Grid', 'per_level_scale': 1.5, 'type': 'Hash'})\n",
      "  (network): Network(n_input_dims=32, n_output_dims=2, seed=1337, dtype=torch.float16, hyperparams={'encoding': {'offset': 0.0, 'otype': 'Identity', 'scale': 1.0}, 'network': {'activation': 'Sine', 'n_hidden_layers': 2, 'n_neurons': 128, 'otype': 'CutlassMLP', 'output_activation': 'None'}, 'otype': 'NetworkWithInputEncoding'})\n",
      ")\n"
     ]
    }
   ],
   "source": [
    "model = InstantNGPFieldRepresentation(input_dim=3, hidden_dim=128, output_dim=2).cuda()\n",
    "print(model)"
   ]
  },
  {
   "cell_type": "code",
   "execution_count": 5,
   "metadata": {},
   "outputs": [
    {
     "name": "stdout",
     "output_type": "stream",
     "text": [
      "tensor([ 3.3736e-04-1.4126e-04j, -1.0467e-04+3.4738e-04j,\n",
      "         6.4969e-05-1.9133e-05j,  5.6028e-05-4.6253e-05j,\n",
      "         2.8729e-04-1.8823e-04j,  2.2805e-04+1.4877e-04j,\n",
      "        -6.7353e-05+1.4460e-04j, -5.9187e-05-1.7262e-04j,\n",
      "         1.0592e-04+8.7619e-05j, -4.1771e-04+5.1069e-04j], device='cuda:0',\n",
      "       grad_fn=<ComplexBackward0>)\n"
     ]
    }
   ],
   "source": [
    "#test the model\n",
    "x = torch.randn(10, 3).cuda()\n",
    "y = model(x)\n",
    "print(y)"
   ]
  }
 ],
 "metadata": {
  "kernelspec": {
   "display_name": "nvr_sas",
   "language": "python",
   "name": "python3"
  },
  "language_info": {
   "codemirror_mode": {
    "name": "ipython",
    "version": 3
   },
   "file_extension": ".py",
   "mimetype": "text/x-python",
   "name": "python",
   "nbconvert_exporter": "python",
   "pygments_lexer": "ipython3",
   "version": "3.8.18"
  }
 },
 "nbformat": 4,
 "nbformat_minor": 2
}
